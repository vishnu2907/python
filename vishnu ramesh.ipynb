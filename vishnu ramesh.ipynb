{
  "cells": [
    {
      "cell_type": "code",
      "source": [
        "listt=[1,2,3,4]\n",
        "expet 1,4,9,16"
      ],
      "metadata": {
        "id": "8hC35-_RHLVl"
      },
      "execution_count": null,
      "outputs": []
    },
    {
      "cell_type": "code",
      "source": [
        "\n",
        "list=[1,2,3,4]\n",
        "for i in list:\n",
        "  print(i**2, end=\",\")"
      ],
      "metadata": {
        "colab": {
          "base_uri": "https://localhost:8080/"
        },
        "id": "CHsKXjKQHcK4",
        "outputId": "a0801fee-d862-4b4e-f611-407242805aca"
      },
      "execution_count": null,
      "outputs": [
        {
          "output_type": "stream",
          "name": "stdout",
          "text": [
            "1,4,9,16,"
          ]
        }
      ]
    }
  ],
  "metadata": {
    "colab": {
      "toc_visible": true,
      "provenance": []
    },
    "kernelspec": {
      "display_name": "Python 3",
      "name": "python3"
    }
  },
  "nbformat": 4,
  "nbformat_minor": 0
}